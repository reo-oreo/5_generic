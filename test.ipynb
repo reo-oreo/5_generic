{
 "cells": [
  {
   "cell_type": "code",
   "execution_count": 3,
   "metadata": {},
   "outputs": [
    {
     "name": "stdout",
     "output_type": "stream",
     "text": [
      "thisis fit_obj LabelEncoder()\n",
      "thisis trans_obj [1 0 1 2]\n"
     ]
    }
   ],
   "source": [
    "#label encoderの仕様確認\n",
    "\n",
    "from sklearn.preprocessing import LabelEncoder\n",
    "\n",
    "arys=['tanaka','takada','tanaka','yoshida']\n",
    "\n",
    "lbl=LabelEncoder()\n",
    "fit_obj=lbl.fit(arys)\n",
    "trans_obj=lbl.transform(arys)\n",
    "\n",
    "print(\"thisis fit_obj\",fit_obj)\n",
    "print(\"thisis trans_obj\",trans_obj)"
   ]
  },
  {
   "cell_type": "code",
   "execution_count": null,
   "metadata": {},
   "outputs": [],
   "source": []
  },
  {
   "cell_type": "code",
   "execution_count": null,
   "metadata": {},
   "outputs": [],
   "source": []
  }
 ],
 "metadata": {
  "kernelspec": {
   "display_name": "Python 3",
   "language": "python",
   "name": "python3"
  },
  "language_info": {
   "codemirror_mode": {
    "name": "ipython",
    "version": 3
   },
   "file_extension": ".py",
   "mimetype": "text/x-python",
   "name": "python",
   "nbconvert_exporter": "python",
   "pygments_lexer": "ipython3",
   "version": "3.7.3"
  }
 },
 "nbformat": 4,
 "nbformat_minor": 2
}
